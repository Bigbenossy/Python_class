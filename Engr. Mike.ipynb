{
 "cells": [
  {
   "cell_type": "code",
   "execution_count": 70,
   "metadata": {},
   "outputs": [],
   "source": [
    "# EXECUTE BUT DO NOT CHANGE THIS CELL!\n",
    "# check function definitions\n",
    "\n",
    "import hashlib\n",
    "def check1(num_names):\n",
    "    if (hashlib.sha256(str(num_names).encode('utf-8')).hexdigest() == \n",
    "        '6d7be37d6aa3665ddca5b4c3ab26e689e4efc1c33bea69ccbaeec6ed49569558'):\n",
    "        print(\"PROBLEM 1 CORRECT\")\n",
    "    else:\n",
    "        print(\"PROBLEM 1 INCORRECT\")\n",
    "\n",
    "def check2(top_name):\n",
    "    if (hashlib.sha256(str(top_name).upper().encode('utf-8')).hexdigest() == \n",
    "        '4ead13b3b5c9e15bd3f1172f3a0cb83f68d9b7dab1bd2d5895c7f395bc4c840c'):\n",
    "        print(\"PROBLEM 2 CORRECT\")\n",
    "    else:\n",
    "        print(\"PROBLEM 2 INCORRECT\")\n",
    "\n",
    "def check3(top_age):\n",
    "    if (hashlib.sha256(str(top_age).encode('utf-8')).hexdigest() == \n",
    "        '48449a14a4ff7d79bb7a1b6f3d488eba397c36ef25634c111b49baf362511afc'):\n",
    "        print(\"PROBLEM 3 CORRECT\")\n",
    "    else:\n",
    "        print(\"PROBLEM 3 INCORRECT\")\n",
    "\n",
    "\n",
    "def check4(count):\n",
    "    if (hashlib.sha256(str(count).encode('utf-8')).hexdigest() == \n",
    "        '4c609f1b73719f9c38a68fd12dc9204a6dd74c7cfb58d01a9eb8888d62e8a15a'):\n",
    "        print(\"PROBLEM 4 CORRECT\")\n",
    "    else:\n",
    "        print(\"PROBLEM 4 INCORRECT\")\n",
    "\n",
    "def check5(surname, yyyy, mm, dd):\n",
    "    if (hashlib.sha256((str(surname).upper() + str(yyyy) + str(mm) + str(dd)).encode('utf-8')).hexdigest() == \n",
    "        '0b06b20f0446d6e99ab7b3b9688f539f86a78163fb3672aeab86d51e0a8977cf'):\n",
    "        print(\"PROBLEM 5 CORRECT\")\n",
    "    else:\n",
    "        print(\"PROBLEM 5 INCORRECT\")"
   ]
  },
  {
   "cell_type": "code",
   "execution_count": 71,
   "metadata": {},
   "outputs": [],
   "source": [
    "# import os\n",
    "# from urllib.request import urlretrieve\n",
    "\n",
    "# download the data if we don't have it locally\n",
    "# url = \"http://faculty.cs.niu.edu/~dakoop/cs680-2021sp/a1/info_wanted.csv\"\n",
    "local_fname = \"./info_wanted.csv\"\n",
    "# if not os.path.exists(\"info_wanted.csv\"):\n",
    "#     urlretrieve(url, local_fname)\n",
    "\n",
    "# very primtive way of reading the data\n",
    "# can be improved\n",
    "with open(local_fname,'r') as f:\n",
    "    records = f.readlines()\n",
    "field_names = records[0]\n",
    "records = records[1:]"
   ]
  },
  {
   "cell_type": "code",
   "execution_count": 72,
   "metadata": {},
   "outputs": [
    {
     "data": {
      "text/plain": [
       "'recid,mm,dd,yy,firstname,surname,sex,age,seek_surname,seek_first\\n'"
      ]
     },
     "execution_count": 72,
     "metadata": {},
     "output_type": "execute_result"
    }
   ],
   "source": [
    "field_names"
   ]
  },
  {
   "cell_type": "code",
   "execution_count": 90,
   "metadata": {},
   "outputs": [
    {
     "data": {
      "text/plain": [
       "'38575,4,25,68,Martin Joesph,Glynn,m,,Glynn,Daniel C. \\n'"
      ]
     },
     "execution_count": 90,
     "metadata": {},
     "output_type": "execute_result"
    }
   ],
   "source": [
    "# the first record\n",
    "# for i in records:\n",
    "#     print(i.split(\",\")[5].strip())\n",
    "\n",
    "records[0]"
   ]
  },
  {
   "cell_type": "code",
   "execution_count": 74,
   "metadata": {},
   "outputs": [
    {
     "data": {
      "text/plain": [
       "'Martin Joesph'"
      ]
     },
     "execution_count": 74,
     "metadata": {},
     "output_type": "execute_result"
    }
   ],
   "source": [
    "# records[0]'s first name\n",
    "records[0].split(',')[4]"
   ]
  },
  {
   "cell_type": "markdown",
   "metadata": {},
   "source": [
    "## Problem 1"
   ]
  },
  {
   "cell_type": "code",
   "execution_count": 75,
   "metadata": {},
   "outputs": [],
   "source": [
    "# do your work for Problem 1 here\n",
    "def problem_1(records):\n",
    "    unique_first_names = set()\n",
    "    for record in records:\n",
    "        fields = record.split(',')\n",
    "        first_name = fields[4].strip()  # Extract and clean the first name (remove spaces)\n",
    "        if first_name:\n",
    "            unique_first_names.add(first_name)\n",
    "    return len(unique_first_names)\n"
   ]
  },
  {
   "cell_type": "code",
   "execution_count": 76,
   "metadata": {},
   "outputs": [
    {
     "data": {
      "text/plain": [
       "1622"
      ]
     },
     "execution_count": 76,
     "metadata": {},
     "output_type": "execute_result"
    }
   ],
   "source": [
    "problem_1(records)"
   ]
  },
  {
   "cell_type": "code",
   "execution_count": 77,
   "metadata": {},
   "outputs": [
    {
     "name": "stdout",
     "output_type": "stream",
     "text": [
      "PROBLEM 1 CORRECT\n"
     ]
    }
   ],
   "source": [
    "# check your solution -- change the argument to your solution\n",
    "check1(1622) # the total number of unqiue first names in the dataset"
   ]
  },
  {
   "cell_type": "markdown",
   "metadata": {},
   "source": [
    "## Problem 2"
   ]
  },
  {
   "cell_type": "code",
   "execution_count": 78,
   "metadata": {},
   "outputs": [],
   "source": [
    "# do your work for Problem 2 here\n",
    "from collections import Counter\n",
    "\n",
    "def problem_2(records):\n",
    "    first_names = []\n",
    "    for record in records:\n",
    "        fields = record.split(',')\n",
    "        first_name = fields[4].strip().upper()  # Extract, clean, and convert to uppercase\n",
    "        if first_name:\n",
    "            first_names.append(first_name)\n",
    "    most_common = Counter(first_names).most_common(1)\n",
    "    return most_common[0][0] if most_common else None"
   ]
  },
  {
   "cell_type": "code",
   "execution_count": 79,
   "metadata": {},
   "outputs": [
    {
     "data": {
      "text/plain": [
       "'JOHN'"
      ]
     },
     "execution_count": 79,
     "metadata": {},
     "output_type": "execute_result"
    }
   ],
   "source": [
    "problem_2(records)"
   ]
  },
  {
   "cell_type": "code",
   "execution_count": 80,
   "metadata": {},
   "outputs": [
    {
     "name": "stdout",
     "output_type": "stream",
     "text": [
      "PROBLEM 2 CORRECT\n"
     ]
    }
   ],
   "source": [
    "# check your solution\n",
    "check2(\"JOHN\") # the most common first name in the dataset"
   ]
  },
  {
   "cell_type": "markdown",
   "metadata": {},
   "source": [
    "## Problem 3"
   ]
  },
  {
   "cell_type": "code",
   "execution_count": 81,
   "metadata": {},
   "outputs": [],
   "source": [
    "# do your work for Problem 3 here\n",
    "\n",
    "def problem_3(records):\n",
    "    oldest_age = -1\n",
    "    for record in records:\n",
    "        fields = record.split(',')\n",
    "        age_str = fields[7].strip()  # Extract and clean the age\n",
    "        try:\n",
    "            age = int(age_str)\n",
    "            if age > oldest_age:\n",
    "                oldest_age = age\n",
    "        except ValueError:\n",
    "            pass  # Ignore non-integer age values\n",
    "    return oldest_age"
   ]
  },
  {
   "cell_type": "code",
   "execution_count": 82,
   "metadata": {},
   "outputs": [
    {
     "name": "stdout",
     "output_type": "stream",
     "text": [
      "PROBLEM 3 CORRECT\n"
     ]
    }
   ],
   "source": [
    "# check your solution\n",
    "check3(80) # the age of the oldest person being saught"
   ]
  },
  {
   "cell_type": "markdown",
   "metadata": {},
   "source": [
    "## Problem 4"
   ]
  },
  {
   "cell_type": "code",
   "execution_count": 83,
   "metadata": {},
   "outputs": [
    {
     "name": "stdout",
     "output_type": "stream",
     "text": [
      "26273\n"
     ]
    }
   ],
   "source": [
    "# do your work for Problem 4 here\n",
    "\n",
    "def problem_4(records):\n",
    "    same_surname_count = 0\n",
    "    for record in records:\n",
    "        fields = record.split(',')\n",
    "        seek_surname = fields[8].strip().lower()  # Extract, clean, and convert to lowercase\n",
    "        surname = fields[5].strip().lower()  # Extract, clean, and convert to lowercase\n",
    "        if seek_surname and surname and seek_surname == surname:\n",
    "            same_surname_count += 1\n",
    "    return same_surname_count\n",
    "\n",
    "result_4 = problem_4(records)\n",
    "print(result_4)\n"
   ]
  },
  {
   "cell_type": "code",
   "execution_count": 84,
   "metadata": {},
   "outputs": [
    {
     "name": "stdout",
     "output_type": "stream",
     "text": [
      "PROBLEM 4 CORRECT\n"
     ]
    }
   ],
   "source": [
    "# check your solution\n",
    "check4(26273) # the count of entries where the surnames match"
   ]
  },
  {
   "cell_type": "markdown",
   "metadata": {},
   "source": [
    "## Problem 5"
   ]
  },
  {
   "cell_type": "code",
   "execution_count": 85,
   "metadata": {},
   "outputs": [],
   "source": [
    "# do your work for Problem 5 here\n",
    "def problem_5(records):\n",
    "    latest_date = None\n",
    "    latest_surname = None\n",
    "\n",
    "    for record in records:\n",
    "        fields = record.split(',')\n",
    "        if not fields[3].strip().isdigit():\n",
    "            continue  # Skip records with non-numeric year (yy)\n",
    "        \n",
    "        surname = fields[5].strip()\n",
    "        yyyy = int(fields[3].strip())  # Convert yy to an integer\n",
    "        mm = int(fields[1].strip())\n",
    "        dd = int(fields[2].strip())\n",
    "\n",
    "        # Convert yy to a four-digit year based on the dataset's range\n",
    "        if yyyy < 30:\n",
    "            yyyy += 2000\n",
    "        else:\n",
    "            yyyy += 1900\n",
    "\n",
    "        date = yyyy * 10000 + mm * 100 + dd  # Create a comparable date as an integer\n",
    "\n",
    "        if latest_date is None or date > latest_date:\n",
    "            latest_date = date\n",
    "            latest_surname = surname\n",
    "\n",
    "    if latest_date is not None and latest_surname is not None:\n",
    "        # Format the result\n",
    "        formatted_result = f\"The most recent entry: {latest_surname}, {latest_date // 10000:04}-{latest_date % 10000 // 100:02}-{latest_date % 100:02}\"\n",
    "    else:\n",
    "        formatted_result = \"No valid records found.\"\n",
    "\n",
    "    return formatted_result\n",
    "\n",
    "# result_5 = problem_5(records)\n",
    "# print(result_5)\n"
   ]
  },
  {
   "cell_type": "code",
   "execution_count": 86,
   "metadata": {},
   "outputs": [
    {
     "data": {
      "text/plain": [
       "\"The most recent entry: o'neill, 2013-01-18\""
      ]
     },
     "execution_count": 86,
     "metadata": {},
     "output_type": "execute_result"
    }
   ],
   "source": [
    "problem_5(records)"
   ]
  },
  {
   "cell_type": "code",
   "execution_count": 87,
   "metadata": {},
   "outputs": [
    {
     "name": "stdout",
     "output_type": "stream",
     "text": [
      "PROBLEM 5 INCORRECT\n"
     ]
    }
   ],
   "source": [
    "# check your solution\n",
    "#the problem 5, problem can't be solved \n",
    "check5(\"o'neill\",\"2013\",\"01\",\"18\") # the surname, year (four-digit), month, and day of the most recent entries"
   ]
  },
  {
   "cell_type": "code",
   "execution_count": 89,
   "metadata": {},
   "outputs": [],
   "source": []
  }
 ],
 "metadata": {
  "kernelspec": {
   "display_name": "Python 3",
   "language": "python",
   "name": "python3"
  },
  "language_info": {
   "codemirror_mode": {
    "name": "ipython",
    "version": 3
   },
   "file_extension": ".py",
   "mimetype": "text/x-python",
   "name": "python",
   "nbconvert_exporter": "python",
   "pygments_lexer": "ipython3",
   "version": "3.11.1"
  }
 },
 "nbformat": 4,
 "nbformat_minor": 4
}
