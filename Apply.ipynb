{
 "cells": [
  {
   "cell_type": "code",
   "execution_count": 6,
   "metadata": {},
   "outputs": [
    {
     "name": "stdout",
     "output_type": "stream",
     "text": [
      " Student Name: Benedict\n",
      " Student Cell Number: 08136144432\n",
      " Student Mail: benedictobotse@gmail.com\n",
      " Student Gender: Male\n",
      " Student Age: 13\n"
     ]
    }
   ],
   "source": [
    "# write a function to register a student name, phone number, email address. as a normal code first\n",
    "student_name = input(\"Enter your student Name: \")\n",
    "phone_number = input(\"Enter your Student phone number: \")\n",
    "email_address = input('Enter your Student email address: ')\n",
    "gender = input(\"Enter Student Gender: \")\n",
    "age = input(\"Enter Student Age: \")\n",
    "print(f' Student Name: {student_name}')\n",
    "print(f' Student Cell Number: {phone_number}')\n",
    "print(f' Student Mail: {email_address}')  \n",
    "print(f' Student Gender: {gender}')\n",
    "print(f' Student Age: {age}')\n"
   ]
  },
  {
   "cell_type": "code",
   "execution_count": 10,
   "metadata": {},
   "outputs": [
    {
     "name": "stdout",
     "output_type": "stream",
     "text": [
      " Student Name: BENEDICT\n",
      " Student Cell Number: 08136144432\n",
      " Student Mail: benedictobotse@gmail.com\n",
      " Student Gender: Male\n",
      " Student Age: 13\n"
     ]
    }
   ],
   "source": [
    "def student_info():\n",
    "    student_name = input(\"Enter your student Name: \")\n",
    "    phone_number = input(\"Enter your Student phone number: \")\n",
    "    email_address = input('Enter your Student email address: ')\n",
    "    gender = input(\"Enter Student Gender: \")\n",
    "    age = input(\"Enter Student Age: \")\n",
    "\n",
    "    # student_file = {\n",
    "    #     'name':name,\n",
    "    #     'gender': gender,\n",
    "    #     'age' : age,\n",
    "    #     'cell number' :phone_number,\n",
    "    #     'mail' :email_address\n",
    "    # }\n",
    "    return student_name, gender, age, phone_number, email_address\n",
    "\n",
    "    # print(f' Student Name: {student_name}')\n",
    "    # print(f' Student Cell Number: {phone_number}')\n",
    "    # print(f' Student Mail: {email_address}')  \n",
    "    # print(f' Student Gender: {gender}')\n",
    "    # print(f' Student Age: {age}')\n",
    "\n",
    "\n",
    "student_info()"
   ]
  },
  {
   "cell_type": "code",
   "execution_count": null,
   "metadata": {},
   "outputs": [],
   "source": []
  }
 ],
 "metadata": {
  "kernelspec": {
   "display_name": "Python 3",
   "language": "python",
   "name": "python3"
  },
  "language_info": {
   "codemirror_mode": {
    "name": "ipython",
    "version": 3
   },
   "file_extension": ".py",
   "mimetype": "text/x-python",
   "name": "python",
   "nbconvert_exporter": "python",
   "pygments_lexer": "ipython3",
   "version": "3.11.6"
  },
  "orig_nbformat": 4
 },
 "nbformat": 4,
 "nbformat_minor": 2
}
